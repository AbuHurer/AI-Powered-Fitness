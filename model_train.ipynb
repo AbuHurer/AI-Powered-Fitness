{
 "cells": [
  {
   "cell_type": "code",
   "execution_count": null,
   "id": "5244374f",
   "metadata": {},
   "outputs": [
    {
     "name": "stdout",
     "output_type": "stream",
     "text": [
      "\n",
      "🔹 Regression Model Performance:\n",
      "Mean Absolute Error (MAE): 0.70\n",
      "R² Score: 0.99\n"
     ]
    },
    {
     "ename": "NameError",
     "evalue": "name 'clf' is not defined",
     "output_type": "error",
     "traceback": [
      "\u001b[1;31m---------------------------------------------------------------------------\u001b[0m",
      "\u001b[1;31mNameError\u001b[0m                                 Traceback (most recent call last)",
      "Cell \u001b[1;32mIn[3], line 78\u001b[0m\n\u001b[0;32m     74\u001b[0m \u001b[38;5;66;03m# ==========================\u001b[39;00m\n\u001b[0;32m     75\u001b[0m \u001b[38;5;66;03m# 6. Save Models (Optional)\u001b[39;00m\n\u001b[0;32m     76\u001b[0m \u001b[38;5;66;03m# ==========================\u001b[39;00m\n\u001b[0;32m     77\u001b[0m \u001b[38;5;28;01mimport\u001b[39;00m\u001b[38;5;250m \u001b[39m\u001b[38;5;21;01mjoblib\u001b[39;00m\n\u001b[1;32m---> 78\u001b[0m joblib\u001b[38;5;241m.\u001b[39mdump(\u001b[43mclf\u001b[49m, \u001b[38;5;124m\"\u001b[39m\u001b[38;5;124mgoal_type_classifier.pkl\u001b[39m\u001b[38;5;124m\"\u001b[39m)\n\u001b[0;32m     79\u001b[0m joblib\u001b[38;5;241m.\u001b[39mdump(reg, \u001b[38;5;124m\"\u001b[39m\u001b[38;5;124mtime_per_workout_regressor.pkl\u001b[39m\u001b[38;5;124m\"\u001b[39m)\n\u001b[0;32m     80\u001b[0m joblib\u001b[38;5;241m.\u001b[39mdump(label_encoders, \u001b[38;5;124m\"\u001b[39m\u001b[38;5;124mlabel_encoders.pkl\u001b[39m\u001b[38;5;124m\"\u001b[39m)\n",
      "\u001b[1;31mNameError\u001b[0m: name 'clf' is not defined"
     ]
    }
   ],
   "source": [
    "# Phase 3: Machine Learning Models\n",
    "\n",
    "# ==========================\n",
    "# 1. Import libraries\n",
    "# ==========================\n",
    "import pandas as pd\n",
    "import numpy as np\n",
    "from sklearn.model_selection import train_test_split\n",
    "from sklearn.preprocessing import LabelEncoder\n",
    "from sklearn.ensemble import RandomForestClassifier, RandomForestRegressor\n",
    "from sklearn.metrics import accuracy_score, classification_report, mean_absolute_error, r2_score\n",
    "\n",
    "# ==========================\n",
    "# 2. Load dataset\n",
    "# ==========================\n",
    "df = pd.read_csv(\"fitness_and_workout_dataset_cleaned.csv\")\n",
    "\n",
    "# ==========================\n",
    "# 3. Encode categorical variables\n",
    "# ==========================\n",
    "label_encoders = {}\n",
    "for col in df.select_dtypes(include=[\"object\"]).columns:\n",
    "    le = LabelEncoder()\n",
    "    df[col] = le.fit_transform(df[col])\n",
    "    label_encoders[col] = le\n",
    "\n",
    "# ==========================\n",
    "# 4. Classification Model: Predict goal_type\n",
    "# ==========================\n",
    "if \"goal_type\" in df.columns:\n",
    "    # Features & Target\n",
    "    X = df.drop(columns=[\"goal_type\"])\n",
    "    y = df[\"goal_type\"]\n",
    "\n",
    "    # Split Data\n",
    "    X_train, X_test, y_train, y_test = train_test_split(X, y, test_size=0.2, random_state=42)\n",
    "\n",
    "    # Train Model\n",
    "    clf = RandomForestClassifier(n_estimators=100, random_state=42)\n",
    "    clf.fit(X_train, y_train)\n",
    "\n",
    "    # Predictions\n",
    "    y_pred = clf.predict(X_test)\n",
    "\n",
    "    # Evaluation\n",
    "    print(\"\\n🔹 Classification Model Performance:\")\n",
    "    print(f\"Accuracy: {accuracy_score(y_test, y_pred):.2f}\")\n",
    "    print(\"\\nClassification Report:\")\n",
    "    print(classification_report(y_test, y_pred))\n",
    "\n",
    "# ==========================\n",
    "# 5. Regression Model: Predict time_per_workout\n",
    "# ==========================\n",
    "if \"time_per_workout\" in df.columns:\n",
    "    # Features & Target\n",
    "    X = df.drop(columns=[\"time_per_workout\"])\n",
    "    y = df[\"time_per_workout\"]\n",
    "\n",
    "    # Split Data\n",
    "    X_train, X_test, y_train, y_test = train_test_split(X, y, test_size=0.2, random_state=42)\n",
    "\n",
    "    # Train Model\n",
    "    reg = RandomForestRegressor(n_estimators=100, random_state=42)\n",
    "    reg.fit(X_train, y_train)\n",
    "\n",
    "    # Predictions\n",
    "    y_pred = reg.predict(X_test)\n",
    "\n",
    "    # Evaluation\n",
    "    print(\"\\n🔹 Regression Model Performance:\")\n",
    "    print(f\"Mean Absolute Error (MAE): {mean_absolute_error(y_test, y_pred):.2f}\")\n",
    "    print(f\"R² Score: {r2_score(y_test, y_pred):.2f}\")\n",
    "\n",
    "# ==========================\n",
    "# 6. Save Models (Optional)\n",
    "# ==========================\n",
    "import joblib\n",
    "if \"clf\" in globals():\n",
    "    joblib.dump(clf, \"goal_type_classifier.pkl\")\n",
    "if \"reg\" in globals():\n",
    "    joblib.dump(reg, \"time_per_workout_regressor.pkl\")\n",
    "joblib.dump(label_encoders, \"label_encoders.pkl\")\n",
    "print(\"\\n✅ Models saved successfully.\")\n"
   ]
  }
 ],
 "metadata": {
  "kernelspec": {
   "display_name": "Python 3",
   "language": "python",
   "name": "python3"
  },
  "language_info": {
   "codemirror_mode": {
    "name": "ipython",
    "version": 3
   },
   "file_extension": ".py",
   "mimetype": "text/x-python",
   "name": "python",
   "nbconvert_exporter": "python",
   "pygments_lexer": "ipython3",
   "version": "3.10.0"
  }
 },
 "nbformat": 4,
 "nbformat_minor": 5
}
